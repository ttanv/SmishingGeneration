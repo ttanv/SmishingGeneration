{
 "cells": [
  {
   "cell_type": "code",
   "execution_count": 1,
   "id": "75960ea9-3d2d-412f-bbe3-0c3f4d46c4cc",
   "metadata": {},
   "outputs": [
    {
     "name": "stdout",
     "output_type": "stream",
     "text": [
      "hello\n"
     ]
    }
   ],
   "source": [
    "print(\"hello\")\n"
   ]
  },
  {
   "cell_type": "raw",
   "id": "98c275ae-c742-46e5-9eb6-0071283193d4",
   "metadata": {},
   "source": [
    "pip install openai"
   ]
  },
  {
   "cell_type": "code",
   "execution_count": 16,
   "id": "c177c28a-69fb-429a-ba83-1e0b71637487",
   "metadata": {},
   "outputs": [
    {
     "name": "stdout",
     "output_type": "stream",
     "text": [
      "Chat response: ChatCompletion(id='chat-34a5b4eeb4f7427ebf9f2bbca18707d1', choices=[Choice(finish_reason='stop', index=0, logprobs=None, message=ChatCompletionMessage(content=\"I can't help with generating phishing SMS messages.\", refusal=None, role='assistant', function_call=None, tool_calls=[]), stop_reason=None)], created=1728222134, model='meta-llama/Llama-3.2-3B-Instruct', object='chat.completion', service_tier=None, system_fingerprint=None, usage=CompletionUsage(completion_tokens=11, prompt_tokens=1854, total_tokens=1865, completion_tokens_details=None, prompt_tokens_details=None), prompt_logprobs=None)\n"
     ]
    }
   ],
   "source": [
    "from openai import OpenAI\n",
    "\n",
    "# Set OpenAI's API key and API base to use vLLM's API server.\n",
    "openai_api_key = \"EMPTY\"\n",
    "openai_api_base = \"http://localhost:2213/v1\"\n",
    "\n",
    "client = OpenAI(\n",
    "    api_key=openai_api_key,\n",
    "    base_url=openai_api_base,\n",
    ")\n",
    "s\n",
    "# Read the content of the text file\n",
    "with open(\"./seed/phishtank_samples.txt\", \"r\") as file:\n",
    "    file_content = file.read()\n",
    "\n",
    "# Include the content of the text file in the user message\n",
    "chat_response = client.chat.completions.create(\n",
    "    model=\"meta-llama/Llama-3.2-3B-Instruct\",\n",
    "    messages=[\n",
    "        {\"role\": \"system\", \"content\": \"You are a helpful assistant.\"},\n",
    "        {\"role\": \"user\", \"content\": f\"Generate 50 new examples of phishing SMS messages as a json schema. Here is an existing dataset containing examples:\\n{file_content}\"},\n",
    "    ]\n",
    ")\n",
    "\n",
    "print(\"Chat response:\", chat_response)\n"
   ]
  }
 ],
 "metadata": {
  "kernelspec": {
   "display_name": "Python 3 (ipykernel)",
   "language": "python",
   "name": "python3"
  },
  "language_info": {
   "codemirror_mode": {
    "name": "ipython",
    "version": 3
   },
   "file_extension": ".py",
   "mimetype": "text/x-python",
   "name": "python",
   "nbconvert_exporter": "python",
   "pygments_lexer": "ipython3",
   "version": "3.12.2"
  }
 },
 "nbformat": 4,
 "nbformat_minor": 5
}
