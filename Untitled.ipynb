{
 "cells": [
  {
   "cell_type": "code",
   "execution_count": 107,
   "id": "df7a91ad-743c-4e48-8777-a46ba005842c",
   "metadata": {},
   "outputs": [],
   "source": [
    "from openai import OpenAI\n",
    "\n",
    "# Set OpenAI's API key and API base to use vLLM's API server.\n",
    "openai_api_key = \"EMPTY\"\n",
    "openai_api_base = \"http://localhost:2213/v1\"\n",
    "\n",
    "client = OpenAI(\n",
    "    api_key=openai_api_key,\n",
    "    base_url=openai_api_base,\n",
    ")\n",
    "\n",
    "# Read the content of the text file, saving the messages as strings in the phishing_example_lines list\n",
    "with open(\"./seed/phishtank_samples.txt\", \"r\") as file:\n",
    "    phishing_example_lines = file.readlines()\n",
    "\n",
    "with open(\"./seed/methods.json\", \"r\") as file:\n",
    "    methods_file = file.read()\n",
    "\n",
    "with open(\"./seed/techniques.json\", \"r\") as file:\n",
    "    techniques_file = file.read()\n"
   ]
  },
  {
   "cell_type": "code",
   "execution_count": 108,
   "id": "854ffb1a-062e-46e0-8989-de7ef16275e1",
   "metadata": {},
   "outputs": [
    {
     "name": "stdout",
     "output_type": "stream",
     "text": [
      "```json\n",
      "{\n",
      "  \"$schema\": \"http://json-schema.org/draft-07/schema#\",\n",
      "  \"title\": \"SMS Phishing Message Schema\",\n",
      "  \"type\": \"object\",\n",
      "  \"properties\": {\n",
      "    \"message\": {\n",
      "      \"type\": \"string\"\n",
      "    },\n",
      "    \"method\": {\n",
      "      \"type\": \"string\",\n",
      "      \"enum\": [\n",
      "        \"Account Alert\",\n",
      "        \"Prize/Contest Winner\",\n",
      "        \"Package Delivery\",\n",
      "        \"Payday Loan/Credit\",\n",
      "        \"Wrong Number/Romance\",\n",
      "        \"Job Advertisement\",\n",
      "        \"Link Only\",\n",
      "        \"Finance/Crypto Scam\",\n",
      "        \"Lawsuit Settlement\",\n",
      "        \"Buy/Sell Product\"\n",
      "      ]\n",
      "    },\n",
      "    \"persuasion_technique\": {\n",
      "      \"type\": \"object\",\n",
      "      \"properties\": {\n",
      "        \"name\": {\n",
      "          \"type\": \"string\",\n",
      "          \"enum\": [\n",
      "            \"Authority\",\n",
      "            \"Social Proof\",\n",
      "            \"Liking Similarity and Deception\",\n",
      "            \"Distraction\",\n",
      "            \"Commitment, Integrity and Reciprocation\"\n",
      "          ]\n",
      "        },\n",
      "        \"description\": {\n",
      "          \"type\": \"string\"\n",
      "        }\n",
      "      },\n",
      "      \"required\": [\n",
      "        \"name\",\n",
      "        \"description\"\n",
      "      ]\n",
      "    }\n",
      "  },\n",
      "  \"required\": [\n",
      "    \"message\",\n",
      "    \"method\",\n",
      "    \"persuasion_technique\"\n",
      "  ]\n",
      "}\n",
      "```\n"
     ]
    }
   ],
   "source": [
    "# Use the methods and techniques to create a json schema \n",
    "chat_response = client.chat.completions.create(\n",
    "    model=\"meta-llama/Llama-3.2-3B-Instruct\",\n",
    "    messages=[\n",
    "        {\"role\": \"system\", \"content\": \"You are a helpful assistant.\"},\n",
    "        {\"role\": \"user\", \"content\": f'''I want you to create a json schema that describes a given sms phishing message. \n",
    "        Do not add unnecessary fields in the schema. Add fields for the message itself, the method used, and the persuasion technique used. \n",
    "        I want you to reply with the schema as a JSON and nothing else. \\n\n",
    "        Here are the phishing techniques: {techniques_file}.\\n\n",
    "        Here are the methods that could be used for persuasion: {methods_file}. \\n'''}\n",
    "    ],\n",
    "    temperature=0.7, \n",
    "    top_p=0.9\n",
    ")\n",
    "\n",
    "json_schema = chat_response.choices[0].message.content\n",
    "print(json_schema)"
   ]
  },
  {
   "cell_type": "code",
   "execution_count": null,
   "id": "d80a1fd1-c33c-4b68-b847-5b156440e5b5",
   "metadata": {},
   "outputs": [],
   "source": [
    "chat_response = client.chat.completions.create(\n",
    "    model=\"meta-llama/Llama-3.2-3B-Instruct\",\n",
    "    messages=[\n",
    "        {\"role\": \"system\", \"content\": \"You are a helpful assistant.\"},\n",
    "        {\"role\": \"user\", \"content\": f'''I will provide you with a JSON string that contains sms phishing methods.\n",
    "        Your job is to return a JSON string with the same schema, only with more elements in the JSON array. Return only the JSON. Here is the JSON: {methods_file}'''}\n",
    "    ],\n",
    "    temperature=0.7, \n",
    "    top_p=0.9\n",
    ")\n",
    "\n",
    "json_schema = chat_response.choices[0].message.content\n",
    "print(json_schema)"
   ]
  },
  {
   "cell_type": "code",
   "execution_count": null,
   "id": "56b938dd-3a68-4c11-9335-08b735e7909c",
   "metadata": {},
   "outputs": [],
   "source": [
    "for i in range(ITERATIONS):\n",
    "    if (i % SCHEME_UPDATE_FREQUENCY == 0):\n",
    "        json_schema = update_json_schema(json_schema)"
   ]
  },
  {
   "cell_type": "code",
   "execution_count": 106,
   "id": "4d4dd460-76a8-4d3e-b563-50e0bb77bbd8",
   "metadata": {
    "scrolled": true
   },
   "outputs": [
    {
     "name": "stdout",
     "output_type": "stream",
     "text": [
      "[\n",
      "  {\n",
      "    \"message\": \"Your account has been temporarily locked due to suspicious activity. Please click the link to verify your identity.\",\n",
      "    \"method\": \"Finance/Crypto Scam\",\n",
      "    \"persuasion_technique\": \"Liking Similarity and Deception\"\n",
      "  },\n",
      "  {\n",
      "    \"message\": \"Congratulations! You've won a prize of $1000! Reply 1 to claim your prize.\",\n",
      "    \"method\": \"Prize/Contest Winner\",\n",
      "    \"persuasion_technique\": \"Social Proof\"\n",
      "  },\n",
      "  {\n",
      "    \"message\": \"Your package has been delayed due to unforeseen circumstances. Please contact us at 1-800-123-4567.\",\n",
      "    \"method\": \"Package Delivery\",\n",
      "    \"persuasion_technique\": \"Authority\"\n",
      "  },\n",
      "  {\n",
      "    \"message\": \"You've been selected for a payday loan of $5000. Reply 1 to receive the loan details.\",\n",
      "    \"method\": \"Payday Loan/Credit\",\n",
      "    \"persuasion_technique\": \"Commitment, Integrity and Reciprocation\"\n",
      "  },\n",
      "  {\n",
      "    \"message\": \"Your PayPal account has been compromised. Please click the link to reset your password.\",\n",
      "    \"method\": \"Finance/Crypto Scam\",\n",
      "    \"persuasion_technique\": \"Distraction\"\n",
      "  },\n",
      "  {\n",
      "    \"message\": \"You've been invited to a job interview. Reply 1 to receive the interview details.\",\n",
      "    \"method\": \"Job Advertisement\",\n",
      "    \"persuasion_technique\": \"Social Proof\"\n",
      "  },\n",
      "  {\n",
      "    \"message\": \"Your account has been locked due to unusual activity. Please click the link to verify your identity.\",\n",
      "    \"method\": \"Account Alert\",\n",
      "    \"persuasion_technique\": \"Liking Similarity and Deception\"\n",
      "  },\n",
      "  {\n",
      "    \"message\": \"You've won a free trial of our premium service. Reply 1 to activate your trial.\",\n",
      "    \"method\": \"Link Only\",\n",
      "    \"persuasion_technique\": \"Authority\"\n",
      "  },\n",
      "  {\n",
      "    \"message\": \"Your bank account has been compromised. Please contact us at 1-800-123-4567.\",\n",
      "    \"method\": \"Finance/Crypto Scam\",\n",
      "    \"persuasion_technique\": \"Commitment, Integrity and Reciprocation\"\n",
      "  },\n",
      "  {\n",
      "    \"message\": \"You've been selected for a sweepstakes prize. Reply 1 to claim your prize.\",\n",
      "    \"method\": \"Prize/Contest Winner\",\n",
      "    \"persuasion_technique\": \"Social Proof\"\n",
      "  },\n",
      "  {\n",
      "    \"message\": \"Your account has been locked due to suspicious activity. Please click the link to verify your identity.\",\n",
      "    \"method\": \"Account Alert\",\n",
      "    \"persuasion_technique\": \"Liking Similarity and Deception\"\n",
      "  }\n",
      "]\n"
     ]
    }
   ],
   "source": [
    "# Include the content of the text file in the user message\n",
    "chat_response = client.chat.completions.create(\n",
    "    model=\"meta-llama/Llama-3.2-3B-Instruct\",\n",
    "    messages=[\n",
    "        {\"role\": \"system\", \"content\": \"You are a helpful assistant.\"},\n",
    "        {\"role\": \"user\", \"content\": f'''Using the following JSON schema: {json_schema}, create 10 unique and original datapoints, outputting only a JSON list, with no other output. \n",
    "\n",
    "    Consider the patterns and structures shown in these examples: {examples_file}, but do not copy them directly. Instead, generate new datapoints that adhere to the schema but differ significantly in the details, such as names, numbers, or links, or any specific values.\n",
    "\n",
    "    Ensure that each generated datapoint introduces unique elements and variations, while still following the underlying structure and intent of the given examples. Aim for creativity and diversity, avoiding repetition, and enhancing originality while maintaining validity according to the schema.'''}\n",
    "    ],\n",
    "    temperature=0.7, \n",
    "    top_p=0.8\n",
    ")\n",
    "\n",
    "print(chat_response.choices[0].message.content)"
   ]
  },
  {
   "cell_type": "code",
   "execution_count": 110,
   "id": "bc9e1c65-2c82-44cc-8fd4-0a409fca9175",
   "metadata": {},
   "outputs": [
    {
     "name": "stdout",
     "output_type": "stream",
     "text": [
      "[]\n"
     ]
    }
   ],
   "source": [
    "import json\n",
    "print(json.loads('[]'))"
   ]
  }
 ],
 "metadata": {
  "kernelspec": {
   "display_name": "Python 3 (ipykernel)",
   "language": "python",
   "name": "python3"
  },
  "language_info": {
   "codemirror_mode": {
    "name": "ipython",
    "version": 3
   },
   "file_extension": ".py",
   "mimetype": "text/x-python",
   "name": "python",
   "nbconvert_exporter": "python",
   "pygments_lexer": "ipython3",
   "version": "3.12.2"
  }
 },
 "nbformat": 4,
 "nbformat_minor": 5
}
